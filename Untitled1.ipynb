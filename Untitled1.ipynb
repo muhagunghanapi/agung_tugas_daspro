{
 "cells": [
  {
   "cell_type": "code",
   "execution_count": 1,
   "id": "e8b213ce-7551-4651-bffa-7036b7ad2f82",
   "metadata": {},
   "outputs": [
    {
     "name": "stdout",
     "output_type": "stream",
     "text": [
      "Welcome in python Language\n"
     ]
    }
   ],
   "source": [
    "def helloPython():\n",
    "    print('Welcome in python Language')\n",
    "helloPython()"
   ]
  },
  {
   "cell_type": "code",
   "execution_count": 2,
   "id": "d9f4af19-93cd-4414-a038-ecf08670fc08",
   "metadata": {},
   "outputs": [],
   "source": [
    "def fullname(firstname, lastname):\n",
    "    print(firstname, lastname)"
   ]
  },
  {
   "cell_type": "code",
   "execution_count": null,
   "id": "977b5352-51ce-4d3f-89f1-f280e618e74f",
   "metadata": {},
   "outputs": [],
   "source": [
    "def function_name(param_1, param_2, param_3,....):\n",
    "    logic program"
   ]
  },
  {
   "cell_type": "code",
   "execution_count": 3,
   "id": "a55f7ded-b4bb-493d-8522-4f6d2663e080",
   "metadata": {},
   "outputs": [
    {
     "data": {
      "text/plain": [
       "3"
      ]
     },
     "execution_count": 3,
     "metadata": {},
     "output_type": "execute_result"
    }
   ],
   "source": [
    "def maxValue(val_1, val_2, val_3):\n",
    "    list = [val_1, val_2, val_3]\n",
    "    return max(list)\n",
    "maxValue(1, 3, 2)"
   ]
  },
  {
   "cell_type": "code",
   "execution_count": null,
   "id": "a451089d-d9f1-44a0-b409-88a961f23b74",
   "metadata": {},
   "outputs": [],
   "source": [
    "def function_name(param_1, param_2, Param_3 ='nilai'):\n",
    "    logic program"
   ]
  },
  {
   "cell_type": "code",
   "execution_count": 11,
   "id": "b8a99a8d-694c-4d1c-9624-374f6ba618a8",
   "metadata": {},
   "outputs": [
    {
     "name": "stdout",
     "output_type": "stream",
     "text": [
      "phi : 3.14\n",
      "diameter : 20:\n"
     ]
    }
   ],
   "source": [
    "def countCircleArea(diameter, phi=3.14):\n",
    "    print(f\"phi : {phi}\\ndiameter : {diameter}:\")\n",
    "    def info(suhu, daerah = 'sukabumi', satuan = 'celcius'):\n",
    "            print(f\"suhu sekarang di {daerah} : {suhu} {satuan}\")\n",
    "\n",
    "#cobalah fungsi tersebut pada area kode disini\n",
    "countCircleArea(20)\n",
    "   "
   ]
  },
  {
   "cell_type": "code",
   "execution_count": 11,
   "id": "73fca7fb-e097-4bd0-acad-b09e5df4d479",
   "metadata": {},
   "outputs": [
    {
     "name": "stdout",
     "output_type": "stream",
     "text": [
      "negatif\n"
     ]
    }
   ],
   "source": [
    "def angka(number): \n",
    "    bilangan = ''\n",
    "    if number < 0:\n",
    "        bilangan = 'negatif'\n",
    "    elif number == 0:\n",
    "        bilangan = 'netral'\n",
    "    else:\n",
    "        bilangan = 'positif'\n",
    "    return bilangan\n",
    "print(angka(-1))"
   ]
  },
  {
   "cell_type": "code",
   "execution_count": 8,
   "id": "9eeecebb-7ba4-4f4e-8eb5-150c5f0dbfec",
   "metadata": {},
   "outputs": [
    {
     "data": {
      "text/plain": [
       "24"
      ]
     },
     "execution_count": 8,
     "metadata": {},
     "output_type": "execute_result"
    }
   ],
   "source": [
    "#soal 1\n",
    "angka = [2, 1, 3, 4, 9, 5]\n",
    "def totalValues(angka):\n",
    "    total = 0\n",
    "    for i in range(len(angka)):\n",
    "        total += angka[i]\n",
    "    return total\n",
    "totalValues(angka)"
   ]
  },
  {
   "cell_type": "code",
   "execution_count": 12,
   "id": "5c9c8f9f-a00e-4065-ba25-ad06968077e7",
   "metadata": {},
   "outputs": [
    {
     "data": {
      "text/plain": [
       "23"
      ]
     },
     "execution_count": 12,
     "metadata": {},
     "output_type": "execute_result"
    }
   ],
   "source": [
    "#soal 2\n",
    "angka = [23, 12, 11, 12, 10, 20, 4]\n",
    "def maxNumber(angka):\n",
    "    return max(angka)\n",
    "maxNumber(angka)"
   ]
  },
  {
   "cell_type": "code",
   "execution_count": 13,
   "id": "2d2cdf68-a702-4e9b-a8b8-dc0c363f0f8b",
   "metadata": {},
   "outputs": [
    {
     "data": {
      "text/plain": [
       "['Aulia', 'Nur', 'Latifah']"
      ]
     },
     "execution_count": 13,
     "metadata": {},
     "output_type": "execute_result"
    }
   ],
   "source": [
    "#soal 3\n",
    "list1 = ['Aulia', 'Nur']\n",
    "list2 = ['Latifah']\n",
    "def mixList(list1, list2):\n",
    "    return list1 + list2\n",
    "mixList(list1, list2)"
   ]
  }
 ],
 "metadata": {
  "kernelspec": {
   "display_name": "Python 3 (ipykernel)",
   "language": "python",
   "name": "python3"
  },
  "language_info": {
   "codemirror_mode": {
    "name": "ipython",
    "version": 3
   },
   "file_extension": ".py",
   "mimetype": "text/x-python",
   "name": "python",
   "nbconvert_exporter": "python",
   "pygments_lexer": "ipython3",
   "version": "3.11.7"
  }
 },
 "nbformat": 4,
 "nbformat_minor": 5
}
